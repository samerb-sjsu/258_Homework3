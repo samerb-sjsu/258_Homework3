{
  "nbformat": 4,
  "nbformat_minor": 0,
  "metadata": {
    "colab": {
      "name": "CMPE258_HW3_c2.ipynb",
      "provenance": [],
      "collapsed_sections": []
    },
    "kernelspec": {
      "name": "python3",
      "display_name": "Python 3"
    },
    "language_info": {
      "name": "python"
    }
  },
  "cells": [
    {
      "cell_type": "markdown",
      "metadata": {
        "id": "ux53egH53Onq"
      },
      "source": [
        "# HW3: Part c1. Pure Tensorflow Neural Network - with Auto Differentiation \n",
        "\n",
        "##CMPE-258: Deep Learning, Vijay Eranti\n",
        "##Samer Baslan\n",
        "##SJSU Spring 2021\n",
        "\n",
        "#Reference: https://www.tensorflow.org/guide/basic_training_loops"
      ]
    },
    {
      "cell_type": "markdown",
      "metadata": {
        "id": "DZq8LB_f3mZG"
      },
      "source": [
        "Steps to take:\n",
        "Obtain training data.\n",
        "1. Define the model.\n",
        "2. Define a loss function.\n",
        "3. Run through the training data, calculating loss from the ideal value\n",
        "4. Calculate gradients for that loss and use an optimizer to adjust the variables to fit the data.\n",
        "5. Evaluate results."
      ]
    },
    {
      "cell_type": "code",
      "metadata": {
        "id": "V2jvHvqU3HGI"
      },
      "source": [
        "import tensorflow as tf\n",
        "import numpy as np\n",
        "import matplotlib.pyplot as plt\n",
        "%matplotlib inline"
      ],
      "execution_count": null,
      "outputs": []
    },
    {
      "cell_type": "markdown",
      "metadata": {
        "id": "LVPZ5ej381BC"
      },
      "source": [
        "##Generate Data"
      ]
    },
    {
      "cell_type": "code",
      "metadata": {
        "id": "_hJ8MbbL3it5"
      },
      "source": [
        "TRUE_W = 3.0\n",
        "TRUE_B = 2.0\n",
        "\n",
        "NUM_EXAMPLES = 1000\n",
        "\n",
        "#A vector of random x values\n",
        "x = tf.random.normal(shape = [NUM_EXAMPLES])\n",
        "\n",
        "#Generate some noise\n",
        "noise = tf.random.normal(shape = [NUM_EXAMPLES])\n",
        "\n",
        "#Calculate y\n",
        "y = x * TRUE_W + TRUE_B + noise"
      ],
      "execution_count": null,
      "outputs": []
    },
    {
      "cell_type": "markdown",
      "metadata": {
        "id": "KHOEB-Bg6ZWf"
      },
      "source": [
        "#Define the Model"
      ]
    },
    {
      "cell_type": "code",
      "metadata": {
        "id": "6IjcU94l4cSg"
      },
      "source": [
        "class MyModel(tf.Module):\n",
        "  def __init__(self, **kwargs):\n",
        "    super().__init__(**kwargs)\n",
        "    self.w = tf.Variable(5.0)\n",
        "    self.b = tf.Variable(0.0)\n",
        "\n",
        "  def __call__(self, x):\n",
        "    return self.w * x + self.b"
      ],
      "execution_count": null,
      "outputs": []
    },
    {
      "cell_type": "code",
      "metadata": {
        "colab": {
          "base_uri": "https://localhost:8080/"
        },
        "id": "zBRrmUCq74jt",
        "outputId": "83f5f3c3-abed-4630-e4b7-01c5b5cb7340"
      },
      "source": [
        "model = MyModel()\n",
        "\n",
        "print(\"Variables:\", model.variables)"
      ],
      "execution_count": null,
      "outputs": [
        {
          "output_type": "stream",
          "text": [
            "Variables: (<tf.Variable 'Variable:0' shape=() dtype=float32, numpy=0.0>, <tf.Variable 'Variable:0' shape=() dtype=float32, numpy=5.0>)\n"
          ],
          "name": "stdout"
        }
      ]
    },
    {
      "cell_type": "code",
      "metadata": {
        "id": "v3L3kDB1795B"
      },
      "source": [
        "def loss(target_y, predicted_y):\n",
        "  return tf.reduce_mean(tf.square(target_y - predicted_y))"
      ],
      "execution_count": null,
      "outputs": []
    },
    {
      "cell_type": "code",
      "metadata": {
        "colab": {
          "base_uri": "https://localhost:8080/"
        },
        "id": "5YjG31-K8YN8",
        "outputId": "d00dd0e9-3349-4a5e-b5b1-ac9d8984357c"
      },
      "source": [
        "print(\"Current loss: %1.6f\" % loss(y, model(x)).numpy())"
      ],
      "execution_count": null,
      "outputs": [
        {
          "output_type": "stream",
          "text": [
            "Current loss: 9.375607\n"
          ],
          "name": "stdout"
        }
      ]
    },
    {
      "cell_type": "markdown",
      "metadata": {
        "id": "7YnlEKdo87cV"
      },
      "source": [
        "##Define a training loop"
      ]
    },
    {
      "cell_type": "code",
      "metadata": {
        "id": "FKfp9saK8hlQ"
      },
      "source": [
        "def train(model, x, y, learning_rate):\n",
        "\n",
        "  with tf.GradientTape() as t:\n",
        "    current_loss = loss(y, model(x))\n",
        "\n",
        "  dw, db = t.gradient(current_loss, [model.w, model.b])\n",
        "\n",
        "  model.w.assign_sub(learning_rate * dw)\n",
        "  model.b.assign_sub(learning_rate * db)"
      ],
      "execution_count": null,
      "outputs": []
    },
    {
      "cell_type": "code",
      "metadata": {
        "id": "EDsp_hLX9hKz"
      },
      "source": [
        "model = MyModel()\n",
        "\n",
        "Ws, bs = [], []\n",
        "epochs = range(10)\n",
        "\n",
        "def training_loop(model, x, y):\n",
        "  for epoch in epochs:\n",
        "\n",
        "    train(model, x, y, learning_rate = 0.1)\n",
        "\n",
        "    Ws.append(model.w.numpy())\n",
        "    bs.append(model.b.numpy())\n",
        "    current_loss = loss(y, model(x))\n",
        "\n",
        "    print(\"Epoch %2d: W = %1.2f b = %1.2f, loss = %2.5f\" %\n",
        "          (epoch, Ws[-1], bs[-1], current_loss))"
      ],
      "execution_count": null,
      "outputs": []
    },
    {
      "cell_type": "code",
      "metadata": {
        "colab": {
          "base_uri": "https://localhost:8080/",
          "height": 452
        },
        "id": "ZBqXbXVE91zP",
        "outputId": "5d655f61-cc30-4719-9e6a-92b01d389166"
      },
      "source": [
        "print(\"Starting: W=%1.2f b=%1.2f, loss=%2.5f\" %\n",
        "      (model.w, model.b, loss(y, model(x))))\n",
        "\n",
        "#do the training\n",
        "training_loop(model, x, y)\n",
        "\n",
        "#plot it\n",
        "\n",
        "plt.plot(epochs, Ws, \"r\",\n",
        "         epochs, bs, \"b\")\n",
        "\n",
        "plt.plot([TRUE_W] * len(epochs), \"r--\",\n",
        "         [TRUE_B] * len(epochs), \"b--\")\n",
        "\n",
        "plt.legend([\"W\", \"b\", \"True W\", \"True b\"])\n",
        "plt.show()"
      ],
      "execution_count": null,
      "outputs": [
        {
          "output_type": "stream",
          "text": [
            "Starting: W=5.00 b=0.00, loss=9.37561\n",
            "Epoch  0: W = 4.59 b = 0.41, loss = 6.31433\n",
            "Epoch  1: W = 4.26 b = 0.74, loss = 4.37460\n",
            "Epoch  2: W = 3.99 b = 1.00, loss = 3.14550\n",
            "Epoch  3: W = 3.79 b = 1.21, loss = 2.36667\n",
            "Epoch  4: W = 3.62 b = 1.37, loss = 1.87316\n",
            "Epoch  5: W = 3.48 b = 1.50, loss = 1.56043\n",
            "Epoch  6: W = 3.38 b = 1.61, loss = 1.36225\n",
            "Epoch  7: W = 3.29 b = 1.69, loss = 1.23667\n",
            "Epoch  8: W = 3.23 b = 1.75, loss = 1.15709\n",
            "Epoch  9: W = 3.17 b = 1.81, loss = 1.10665\n"
          ],
          "name": "stdout"
        },
        {
          "output_type": "display_data",
          "data": {
            "image/png": "[encoded data removed]",
            "text/plain": [
              "<Figure size 432x288 with 1 Axes>"
            ]
          },
          "metadata": {
            "tags": [],
            "needs_background": "light"
          }
        }
      ]
    },
    {
      "cell_type": "code",
      "metadata": {
        "colab": {
          "base_uri": "https://localhost:8080/",
          "height": 282
        },
        "id": "4JMLETkw-KyO",
        "outputId": "fea8b560-df33-4cfb-ef7c-b3223911e09e"
      },
      "source": [
        "# Visualize how the trained model performs\n",
        "plt.scatter(x, y, c=\"b\")\n",
        "plt.scatter(x, model(x), c=\"r\")\n",
        "plt.show()\n",
        "\n",
        "print(\"Current loss: %1.6f\" % loss(model(x), y).numpy())"
      ],
      "execution_count": null,
      "outputs": [
        {
          "output_type": "display_data",
          "data": {
            "image/png": "[encoded data removed]",
            "text/plain": [
              "<Figure size 432x288 with 1 Axes>"
            ]
          },
          "metadata": {
            "tags": [],
            "needs_background": "light"
          }
        },
        {
          "output_type": "stream",
          "text": [
            "Current loss: 1.106652\n"
          ],
          "name": "stdout"
        }
      ]
    },
    {
      "cell_type": "code",
      "metadata": {
        "id": "8YRe18me-VL0"
      },
      "source": [
        ""
      ],
      "execution_count": null,
      "outputs": []
    }
  ]
}