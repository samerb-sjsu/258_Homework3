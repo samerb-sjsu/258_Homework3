{
  "nbformat": 4,
  "nbformat_minor": 0,
  "metadata": {
    "colab": {
      "name": "CMPE258_HW3_c1.ipynb",
      "provenance": [],
      "collapsed_sections": []
    },
    "kernelspec": {
      "name": "python3",
      "display_name": "Python 3"
    },
    "language_info": {
      "name": "python"
    }
  },
  "cells": [
    {
      "cell_type": "markdown",
      "metadata": {
        "id": "MDcnRmALDZwD"
      },
      "source": [
        "# HW3: Part c1. Pure Tensorflow Neural Network - no Auto Differentiation \n",
        "\n",
        "##CMPE-258: Deep Learning, Vijay Eranti\n",
        "##Samer Baslan\n",
        "##SJSU Spring 2021\n",
        "\n",
        "#Reference: https://www.tensorflow.org/guide/basic_training_loops"
      ]
    },
    {
      "cell_type": "code",
      "metadata": {
        "id": "1wbR2F0oDYF5"
      },
      "source": [
        "import tensorflow as tf\n",
        "import numpy as np\n",
        "import matplotlib.pyplot as plt\n",
        "%matplotlib inline"
      ],
      "execution_count": null,
      "outputs": []
    },
    {
      "cell_type": "markdown",
      "metadata": {
        "id": "R5cWVF2ADi_l"
      },
      "source": [
        "##Generate Data"
      ]
    },
    {
      "cell_type": "code",
      "metadata": {
        "id": "9lXAW_T_Dczd"
      },
      "source": [
        "TRUE_W = 3.0\n",
        "TRUE_B = 2.0\n",
        "\n",
        "NUM_EXAMPLES = 1000\n",
        "\n",
        "#A vector of random x values\n",
        "x = tf.random.normal(shape = [NUM_EXAMPLES])\n",
        "\n",
        "#Generate some noise\n",
        "noise = tf.random.normal(shape = [NUM_EXAMPLES])\n",
        "\n",
        "#Calculate y\n",
        "y = x * TRUE_W + TRUE_B + noise"
      ],
      "execution_count": null,
      "outputs": []
    },
    {
      "cell_type": "markdown",
      "metadata": {
        "id": "5fRbhMy1DmGv"
      },
      "source": [
        "##Define the model"
      ]
    },
    {
      "cell_type": "code",
      "metadata": {
        "id": "Xq8TCjpSDlGE"
      },
      "source": [
        "class MyModel(tf.Module):\n",
        "  def __init__(self, **kwargs):\n",
        "    super().__init__(**kwargs)\n",
        "    self.w = tf.Variable(5.0)\n",
        "    self.b = tf.Variable(0.0)\n",
        "\n",
        "  def __call__(self, x):\n",
        "    return self.w * x + self.b"
      ],
      "execution_count": null,
      "outputs": []
    },
    {
      "cell_type": "code",
      "metadata": {
        "colab": {
          "base_uri": "https://localhost:8080/"
        },
        "id": "6ER5kTkcDoZB",
        "outputId": "b2a0d1e2-0b6a-4656-b563-3ae4c6a966f6"
      },
      "source": [
        "model = MyModel()\n",
        "\n",
        "print(\"Variables:\", model.variables)"
      ],
      "execution_count": null,
      "outputs": [
        {
          "output_type": "stream",
          "text": [
            "Variables: (<tf.Variable 'Variable:0' shape=() dtype=float32, numpy=0.0>, <tf.Variable 'Variable:0' shape=() dtype=float32, numpy=5.0>)\n"
          ],
          "name": "stdout"
        }
      ]
    },
    {
      "cell_type": "code",
      "metadata": {
        "id": "_6LhTW82DpR-"
      },
      "source": [
        "def loss(target_y, predicted_y):\n",
        "  return tf.reduce_mean(tf.square(target_y - predicted_y))"
      ],
      "execution_count": null,
      "outputs": []
    },
    {
      "cell_type": "code",
      "metadata": {
        "colab": {
          "base_uri": "https://localhost:8080/"
        },
        "id": "4by2pCTsDqtn",
        "outputId": "90d2a699-57a5-4086-f60a-79739e46c646"
      },
      "source": [
        "print(\"Current loss: %1.6f\" % loss(y, model(x)).numpy())"
      ],
      "execution_count": null,
      "outputs": [
        {
          "output_type": "stream",
          "text": [
            "Current loss: 8.606328\n"
          ],
          "name": "stdout"
        }
      ]
    },
    {
      "cell_type": "markdown",
      "metadata": {
        "id": "JWVXwOd_DsfZ"
      },
      "source": [
        "##Define a training loop"
      ]
    },
    {
      "cell_type": "code",
      "metadata": {
        "id": "kApbRfQ5DrmF"
      },
      "source": [
        "def train(model, x, y, learning_rate):\n",
        "  model.w.assign_sub(learning_rate)\n",
        "  model.b.assign_sub(learning_rate)"
      ],
      "execution_count": null,
      "outputs": []
    },
    {
      "cell_type": "code",
      "metadata": {
        "id": "v9iKmpPAD1te"
      },
      "source": [
        "model = MyModel()\n",
        "\n",
        "Ws, bs = [], []\n",
        "epochs = range(10)\n",
        "\n",
        "def training_loop(model, x, y):\n",
        "  for epoch in epochs:\n",
        "\n",
        "    train(model, x, y, learning_rate = 0.1)\n",
        "\n",
        "    Ws.append(model.w.numpy())\n",
        "    bs.append(model.b.numpy())\n",
        "    current_loss = loss(y, model(x))\n",
        "\n",
        "    print(\"Epoch %2d: W = %1.2f b = %1.2f, loss = %2.5f\" %\n",
        "          (epoch, Ws[-1], bs[-1], current_loss))"
      ],
      "execution_count": null,
      "outputs": []
    },
    {
      "cell_type": "code",
      "metadata": {
        "colab": {
          "base_uri": "https://localhost:8080/",
          "height": 452
        },
        "id": "2vEa56M0D3OP",
        "outputId": "b26007cb-9874-4f1e-dcf8-b7eca2be86c5"
      },
      "source": [
        "print(\"Starting: W=%1.2f b=%1.2f, loss=%2.5f\" %\n",
        "      (model.w, model.b, loss(y, model(x))))\n",
        "\n",
        "#do the training\n",
        "training_loop(model, x, y)\n",
        "\n",
        "#plot it\n",
        "\n",
        "plt.plot(epochs, Ws, \"r\",\n",
        "         epochs, bs, \"b\")\n",
        "\n",
        "plt.plot([TRUE_W] * len(epochs), \"r--\",\n",
        "         [TRUE_B] * len(epochs), \"b--\")\n",
        "\n",
        "plt.legend([\"W\", \"b\", \"True W\", \"True b\"])\n",
        "plt.show()"
      ],
      "execution_count": null,
      "outputs": [
        {
          "output_type": "stream",
          "text": [
            "Starting: W=5.00 b=0.00, loss=8.60633\n",
            "Epoch  0: W = 4.90 b = -0.10, loss = 8.65045\n",
            "Epoch  1: W = 4.80 b = -0.20, loss = 8.73422\n",
            "Epoch  2: W = 4.70 b = -0.30, loss = 8.85765\n",
            "Epoch  3: W = 4.60 b = -0.40, loss = 9.02073\n",
            "Epoch  4: W = 4.50 b = -0.50, loss = 9.22346\n",
            "Epoch  5: W = 4.40 b = -0.60, loss = 9.46584\n",
            "Epoch  6: W = 4.30 b = -0.70, loss = 9.74788\n",
            "Epoch  7: W = 4.20 b = -0.80, loss = 10.06957\n",
            "Epoch  8: W = 4.10 b = -0.90, loss = 10.43091\n",
            "Epoch  9: W = 4.00 b = -1.00, loss = 10.83191\n"
          ],
          "name": "stdout"
        },
        {
          "output_type": "display_data",
          "data": {
            "image/png": "[encoded data removed]",
            "text/plain": [
              "<Figure size 432x288 with 1 Axes>"
            ]
          },
          "metadata": {
            "tags": [],
            "needs_background": "light"
          }
        }
      ]
    },
    {
      "cell_type": "code",
      "metadata": {
        "colab": {
          "base_uri": "https://localhost:8080/",
          "height": 282
        },
        "id": "Ml8IzuKXD41K",
        "outputId": "cf0b6bf1-57ab-45ca-f64c-8d2dd95da68e"
      },
      "source": [
        "# Visualize how the trained model performs\n",
        "plt.scatter(x, y, c=\"b\")\n",
        "plt.scatter(x, model(x), c=\"r\")\n",
        "plt.show()  \n",
        "\n",
        "print(\"Current loss: %1.6f\" % loss(model(x), y).numpy())"
      ],
      "execution_count": null,
      "outputs": [
        {
          "output_type": "display_data",
          "data": {
            "image/png": "[encoded data removed]",
            "text/plain": [
              "<Figure size 432x288 with 1 Axes>"
            ]
          },
          "metadata": {
            "tags": [],
            "needs_background": "light"
          }
        },
        {
          "output_type": "stream",
          "text": [
            "Current loss: 10.831907\n"
          ],
          "name": "stdout"
        }
      ]
    },
    {
      "cell_type": "code",
      "metadata": {
        "id": "GVr_JVemD7Bw"
      },
      "source": [
        ""
      ],
      "execution_count": null,
      "outputs": []
    }
  ]
}